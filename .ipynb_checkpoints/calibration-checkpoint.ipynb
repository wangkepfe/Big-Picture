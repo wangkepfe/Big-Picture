{
 "cells": [
  {
   "cell_type": "code",
   "execution_count": 1,
   "metadata": {},
   "outputs": [],
   "source": [
    "import numpy as np\n",
    "import cv2\n",
    "import glob"
   ]
  },
  {
   "cell_type": "code",
   "execution_count": 2,
   "metadata": {
    "collapsed": true
   },
   "outputs": [],
   "source": [
    "patch_x = 7\n",
    "patch_y = 7\n",
    "patch_size = (7  ,7)"
   ]
  },
  {
   "cell_type": "code",
   "execution_count": 3,
   "metadata": {
    "collapsed": true
   },
   "outputs": [],
   "source": [
    "# termination criteria\n",
    "criteria = (cv2.TERM_CRITERIA_EPS + cv2.TERM_CRITERIA_MAX_ITER, 30, 0.001)"
   ]
  },
  {
   "cell_type": "code",
   "execution_count": 4,
   "metadata": {
    "collapsed": true
   },
   "outputs": [],
   "source": [
    "# prepare object points, like (0,0,0), (1,0,0), (2,0,0) ....,(6,5,0)\n",
    "objp = np.zeros((patch_x * patch_y, 3), np.float32)\n",
    "objp[:,:2] = np.mgrid[0:patch_y , 0:patch_x].T.reshape(-1,2)"
   ]
  },
  {
   "cell_type": "code",
   "execution_count": 5,
   "metadata": {
    "collapsed": true
   },
   "outputs": [],
   "source": [
    "# Arrays to store object points and image points from all the images.\n",
    "objpoints = [] # 3d point in real world space\n",
    "imgpoints = [] # 2d points in image plane."
   ]
  },
  {
   "cell_type": "code",
   "execution_count": 6,
   "metadata": {
    "collapsed": true
   },
   "outputs": [],
   "source": [
    "images = glob.glob('calib/*.jpg')"
   ]
  },
  {
   "cell_type": "code",
   "execution_count": 7,
   "metadata": {},
   "outputs": [],
   "source": [
    "#images = [w.replace('\\\\', '/') for w in images]"
   ]
  },
  {
   "cell_type": "code",
   "execution_count": 8,
   "metadata": {},
   "outputs": [
    {
     "data": {
      "text/plain": [
       "['calib\\\\IMG_5912.JPG',\n",
       " 'calib\\\\IMG_5913.JPG',\n",
       " 'calib\\\\IMG_5914.JPG',\n",
       " 'calib\\\\IMG_5915.JPG',\n",
       " 'calib\\\\IMG_5916.JPG',\n",
       " 'calib\\\\IMG_5917.JPG',\n",
       " 'calib\\\\IMG_5918.JPG',\n",
       " 'calib\\\\IMG_5919.JPG',\n",
       " 'calib\\\\IMG_5920.JPG',\n",
       " 'calib\\\\IMG_5921.JPG',\n",
       " 'calib\\\\IMG_5922.JPG',\n",
       " 'calib\\\\IMG_5933.JPG',\n",
       " 'calib\\\\IMG_5934.JPG',\n",
       " 'calib\\\\IMG_5935.JPG',\n",
       " 'calib\\\\IMG_5936.JPG',\n",
       " 'calib\\\\IMG_5937.JPG',\n",
       " 'calib\\\\IMG_5938.JPG']"
      ]
     },
     "execution_count": 8,
     "metadata": {},
     "output_type": "execute_result"
    }
   ],
   "source": [
    "images"
   ]
  },
  {
   "cell_type": "code",
   "execution_count": 18,
   "metadata": {
    "collapsed": true
   },
   "outputs": [],
   "source": [
    "#img = cv2.imread(images[1])"
   ]
  },
  {
   "cell_type": "code",
   "execution_count": 19,
   "metadata": {},
   "outputs": [
    {
     "data": {
      "text/plain": [
       "True"
      ]
     },
     "execution_count": 19,
     "metadata": {},
     "output_type": "execute_result"
    }
   ],
   "source": [
    "#cv2.imwrite('corner\\\\img.jpg',img)"
   ]
  },
  {
   "cell_type": "code",
   "execution_count": 11,
   "metadata": {},
   "outputs": [],
   "source": [
    "#gray = cv2.cvtColor(img,cv2.COLOR_BGR2GRAY)"
   ]
  },
  {
   "cell_type": "code",
   "execution_count": 12,
   "metadata": {
    "collapsed": true
   },
   "outputs": [],
   "source": [
    "#ret, corners = cv2.findChessboardCorners(gray,\n",
    "#                                         patch_size,\n",
    "#                                         flags=cv2.CALIB_CB_ADAPTIVE_THRESH\n",
    "#                                             +cv2.CALIB_CB_NORMALIZE_IMAGE\n",
    "#                                             +cv2.CALIB_CB_FAST_CHECK)"
   ]
  },
  {
   "cell_type": "code",
   "execution_count": 13,
   "metadata": {},
   "outputs": [
    {
     "data": {
      "text/plain": [
       "False"
      ]
     },
     "execution_count": 13,
     "metadata": {},
     "output_type": "execute_result"
    }
   ],
   "source": [
    "#ret"
   ]
  },
  {
   "cell_type": "code",
   "execution_count": 12,
   "metadata": {},
   "outputs": [],
   "source": [
    "#cv2.imshow('img',img)\n",
    "#cv2.waitKey(0)\n",
    "#cv2.destroyAllWindows()"
   ]
  },
  {
   "cell_type": "code",
   "execution_count": 13,
   "metadata": {},
   "outputs": [],
   "source": [
    "#cv2.imshow('gray',gray)\n",
    "#cv2.waitKey(0)\n",
    "#cv2.destroyAllWindows()"
   ]
  },
  {
   "cell_type": "markdown",
   "metadata": {},
   "source": [
    "## Find Corners"
   ]
  },
  {
   "cell_type": "code",
   "execution_count": 10,
   "metadata": {},
   "outputs": [
    {
     "ename": "SyntaxError",
     "evalue": "invalid syntax (<ipython-input-10-f0d9cae140ab>, line 27)",
     "output_type": "error",
     "traceback": [
      "\u001b[1;36m  File \u001b[1;32m\"<ipython-input-10-f0d9cae140ab>\"\u001b[1;36m, line \u001b[1;32m27\u001b[0m\n\u001b[1;33m    cv2.imwrite('corner_'fname, img)\u001b[0m\n\u001b[1;37m                             ^\u001b[0m\n\u001b[1;31mSyntaxError\u001b[0m\u001b[1;31m:\u001b[0m invalid syntax\n"
     ]
    }
   ],
   "source": [
    "for fname in images:\n",
    "    img = cv2.imread(fname)\n",
    "    gray = cv2.cvtColor(img,cv2.COLOR_BGR2GRAY)\n",
    "    \n",
    "    print(fname)\n",
    "\n",
    "    # Find the chess board corners\n",
    "    ret, corners = cv2.findChessboardCorners(gray,\n",
    "                                         patch_size,\n",
    "                                         flags=cv2.CALIB_CB_ADAPTIVE_THRESH\n",
    "                                             +cv2.CALIB_CB_NORMALIZE_IMAGE\n",
    "                                             +cv2.CALIB_CB_FAST_CHECK)\n",
    "    \n",
    "    print(ret)\n",
    "\n",
    "    # If found, add object points, image points (after refining them)\n",
    "    if ret == True:\n",
    "        objpoints.append(objp)\n",
    "\n",
    "        corners2 = cv2.cornerSubPix(gray, corners,(20,20),(-1,-1), criteria)\n",
    "        imgpoints.append(corners2)\n",
    "\n",
    "        # Draw and display the corners\n",
    "        img = cv2.drawChessboardCorners(img, patch_size, corners2, ret)\n",
    "        #cv2.imshow('img',img)\n",
    "        #cv2.waitKey(500)\n",
    "        cv2.imwrite('corner_' + fname, img)\n",
    "        \n",
    "#cv2.destroyAllWindows()"
   ]
  },
  {
   "cell_type": "markdown",
   "metadata": {},
   "source": [
    "## Calibration"
   ]
  },
  {
   "cell_type": "code",
   "execution_count": 10,
   "metadata": {
    "collapsed": true
   },
   "outputs": [],
   "source": [
    "ret, mtx, dist, rvecs, tvecs = cv2.calibrateCamera(objpoints, imgpoints, gray.shape[::-1],None,None)"
   ]
  },
  {
   "cell_type": "code",
   "execution_count": 11,
   "metadata": {},
   "outputs": [
    {
     "data": {
      "text/plain": [
       "3.1752663557204643"
      ]
     },
     "execution_count": 11,
     "metadata": {},
     "output_type": "execute_result"
    }
   ],
   "source": [
    "ret"
   ]
  },
  {
   "cell_type": "code",
   "execution_count": 12,
   "metadata": {},
   "outputs": [
    {
     "data": {
      "text/plain": [
       "array([[  2.74250620e+03,   0.00000000e+00,   1.30242105e+03],\n",
       "       [  0.00000000e+00,   2.74321681e+03,   1.60839253e+03],\n",
       "       [  0.00000000e+00,   0.00000000e+00,   1.00000000e+00]])"
      ]
     },
     "execution_count": 12,
     "metadata": {},
     "output_type": "execute_result"
    }
   ],
   "source": [
    "mtx"
   ]
  },
  {
   "cell_type": "code",
   "execution_count": 13,
   "metadata": {},
   "outputs": [
    {
     "data": {
      "text/plain": [
       "array([[ 0.00904073, -0.33773489, -0.01115854,  0.00089948, -0.38245056]])"
      ]
     },
     "execution_count": 13,
     "metadata": {},
     "output_type": "execute_result"
    }
   ],
   "source": [
    "dist"
   ]
  },
  {
   "cell_type": "code",
   "execution_count": 14,
   "metadata": {},
   "outputs": [
    {
     "data": {
      "text/plain": [
       "[array([[-0.14988312],\n",
       "        [ 0.08887796],\n",
       "        [ 0.0441737 ]]), array([[-0.11719043],\n",
       "        [ 0.09330126],\n",
       "        [ 0.07435225]]), array([[-0.5632204 ],\n",
       "        [ 0.14785011],\n",
       "        [ 0.34701553]]), array([[-0.54674034],\n",
       "        [ 0.17563443],\n",
       "        [ 0.86157545]]), array([[-0.51685642],\n",
       "        [ 0.0121767 ],\n",
       "        [ 0.20668336]]), array([[-0.48961976],\n",
       "        [ 0.22603617],\n",
       "        [ 1.00972225]]), array([[-0.52005379],\n",
       "        [ 0.07606212],\n",
       "        [ 0.38521012]]), array([[ 0.10900466],\n",
       "        [-0.34668794],\n",
       "        [-0.10834176]]), array([[-0.07528154],\n",
       "        [-0.3254331 ],\n",
       "        [ 1.01592404]]), array([[ 0.05303006],\n",
       "        [-0.16658224],\n",
       "        [-0.04666926]]), array([[-0.15871428],\n",
       "        [-0.10401616],\n",
       "        [ 0.03441585]]), array([[ 0.33310961],\n",
       "        [ 0.03260367],\n",
       "        [ 0.00574939]]), array([[ 0.2567159 ],\n",
       "        [-0.368476  ],\n",
       "        [ 1.52327914]]), array([[ 0.19215205],\n",
       "        [-0.50204355],\n",
       "        [ 1.50948843]]), array([[ 0.3389169 ],\n",
       "        [ 0.18285925],\n",
       "        [ 0.0437129 ]]), array([[ 0.16289932],\n",
       "        [-0.08204921],\n",
       "        [ 0.0077783 ]]), array([[ 0.46984632],\n",
       "        [-0.00852066],\n",
       "        [ 0.01338224]])]"
      ]
     },
     "execution_count": 14,
     "metadata": {},
     "output_type": "execute_result"
    }
   ],
   "source": [
    "rvecs"
   ]
  },
  {
   "cell_type": "code",
   "execution_count": 15,
   "metadata": {},
   "outputs": [
    {
     "data": {
      "text/plain": [
       "[array([[ -3.74455112],\n",
       "        [ -3.15296816],\n",
       "        [ 20.52789727]]), array([[ -2.99379007],\n",
       "        [ -1.67965896],\n",
       "        [ 27.76516052]]), array([[ -2.2731908 ],\n",
       "        [ -2.79252671],\n",
       "        [ 21.79141701]]), array([[ -0.65343563],\n",
       "        [ -5.38432406],\n",
       "        [ 22.03516942]]), array([[ -2.37468491],\n",
       "        [ -4.12268198],\n",
       "        [ 20.00125579]]), array([[  0.89129946],\n",
       "        [ -4.26101913],\n",
       "        [ 20.52570452]]), array([[ -2.02254848],\n",
       "        [ -4.43892095],\n",
       "        [ 20.12100993]]), array([[  0.06509598],\n",
       "        [ -5.01353489],\n",
       "        [ 16.4680421 ]]), array([[  4.14765008],\n",
       "        [ -6.51869173],\n",
       "        [ 17.64538015]]), array([[ -0.12234115],\n",
       "        [ -5.36371207],\n",
       "        [ 15.49358762]]), array([[ -0.11294563],\n",
       "        [ -5.12919044],\n",
       "        [ 16.14627044]]), array([[ -3.10491611],\n",
       "        [ -2.71423083],\n",
       "        [ 10.59255613]]), array([[  2.66367085],\n",
       "        [ -1.88592332],\n",
       "        [ 10.998985  ]]), array([[  2.82331493],\n",
       "        [ -1.67818123],\n",
       "        [ 11.25763483]]), array([[ -3.51281599],\n",
       "        [ -2.67503223],\n",
       "        [ 10.40096324]]), array([[ -3.21923195],\n",
       "        [ -2.72008956],\n",
       "        [ 10.38168474]]), array([[ -3.43725011],\n",
       "        [ -2.31914465],\n",
       "        [ 11.36672782]])]"
      ]
     },
     "execution_count": 15,
     "metadata": {},
     "output_type": "execute_result"
    }
   ],
   "source": [
    "tvecs"
   ]
  },
  {
   "cell_type": "markdown",
   "metadata": {},
   "source": [
    "## Undistortion"
   ]
  },
  {
   "cell_type": "markdown",
   "metadata": {},
   "source": [
    "1 Using cv2.undistort()"
   ]
  },
  {
   "cell_type": "code",
   "execution_count": 16,
   "metadata": {
    "collapsed": true
   },
   "outputs": [],
   "source": [
    "targetimages = glob.glob('source/*.jpg')\n",
    "for Iname in targetimages:\n",
    "    img = cv2.imread(Iname)\n",
    "    h,  w = img.shape[:2]\n",
    "    newcameramtx, roi = cv2.getOptimalNewCameraMatrix(mtx, dist,(w,h), 1,(w,h))\n",
    "\n",
    "    # undistort\n",
    "    dst = cv2.undistort(img, mtx, dist, None, newcameramtx)\n",
    "\n",
    "    # crop the image\n",
    "    x,y,w,h = roi\n",
    "    dst = dst[y:y+h, x:x+w]\n",
    "    cv2.imwrite('undis1\\\\' + Iname,dst)"
   ]
  },
  {
   "cell_type": "markdown",
   "metadata": {},
   "source": [
    "2 Using remapping"
   ]
  },
  {
   "cell_type": "code",
   "execution_count": 17,
   "metadata": {
    "collapsed": true
   },
   "outputs": [],
   "source": [
    "targetimages = glob.glob('source/*.jpg')\n",
    "for Iname in targetimages:\n",
    "    img = cv2.imread(Iname)\n",
    "    h,  w = img.shape[:2]\n",
    "    newcameramtx, roi = cv2.getOptimalNewCameraMatrix(mtx,dist,(w,h),1,(w,h))\n",
    "\n",
    "    # undistort\n",
    "    mapx,mapy = cv2.initUndistortRectifyMap(mtx,dist,None,newcameramtx,(w,h),5)\n",
    "    dst = cv2.remap(img,mapx,mapy,cv2.INTER_LINEAR)\n",
    "\n",
    "    # crop the image\n",
    "    x,y,w,h = roi\n",
    "    dst = dst[y:y+h, x:x+w]\n",
    "    cv2.imwrite('undis2\\\\' + Iname,dst)"
   ]
  },
  {
   "cell_type": "code",
   "execution_count": null,
   "metadata": {
    "collapsed": true
   },
   "outputs": [],
   "source": []
  },
  {
   "cell_type": "code",
   "execution_count": null,
   "metadata": {
    "collapsed": true
   },
   "outputs": [],
   "source": []
  }
 ],
 "metadata": {
  "kernelspec": {
   "display_name": "Python 3",
   "language": "python",
   "name": "python3"
  },
  "language_info": {
   "codemirror_mode": {
    "name": "ipython",
    "version": 3
   },
   "file_extension": ".py",
   "mimetype": "text/x-python",
   "name": "python",
   "nbconvert_exporter": "python",
   "pygments_lexer": "ipython3",
   "version": "3.6.2"
  }
 },
 "nbformat": 4,
 "nbformat_minor": 2
}
